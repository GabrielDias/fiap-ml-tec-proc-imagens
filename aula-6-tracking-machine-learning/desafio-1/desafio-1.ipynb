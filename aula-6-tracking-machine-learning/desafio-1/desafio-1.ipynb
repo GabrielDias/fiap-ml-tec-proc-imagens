{
 "cells": [
  {
   "cell_type": "markdown",
   "metadata": {},
   "source": [
    "## Desafio 1\n",
    "\n",
    "\n",
    "Dada uma base de dados de imagens de celebridades na pasta \"5-celebrity-faces-dataset\", colete os dados de cada celebridade identificado por meio do seu nome, por exemplo \"ben_afflek\" e use a pasta \"train\" para treinar um modelo de classificador de rostos e valide os resultados com outras amostras que estão na pasta \"val\".\n",
    "\n",
    "<img src=\"imagens/resultado.png\">"
   ]
  },
  {
   "cell_type": "code",
   "execution_count": 1,
   "metadata": {},
   "outputs": [],
   "source": [
    "import cv2\n",
    "from matplotlib import pyplot as plt\n",
    "import numpy as np\n",
    "import glob"
   ]
  },
  {
   "cell_type": "code",
   "execution_count": 2,
   "metadata": {},
   "outputs": [],
   "source": [
    "face_classifier = cv2.CascadeClassifier('classificadores/haarcascade_frontalface_default.xml')\n",
    "\n",
    "# Extrator de faces\n",
    "def face_extractor(img):\n",
    "    try:\n",
    "        gray = cv2.cvtColor(img,cv2.COLOR_BGR2GRAY)\n",
    "        faces = face_classifier.detectMultiScale(gray, 1.3, 5)\n",
    "\n",
    "        if faces is ():\n",
    "            return None\n",
    "\n",
    "        for (x,y,w,h) in faces:\n",
    "            cropped_face = img[y:y+h, x:x+w]\n",
    "            \n",
    "    except:\n",
    "        return None\n",
    "\n",
    "    return cropped_face"
   ]
  },
  {
   "cell_type": "code",
   "execution_count": 3,
   "metadata": {},
   "outputs": [],
   "source": [
    "nomes = [\"ben_afflek\", \"elton_john\", \"jerry_seinfeld\", \"madonna\"]\n",
    "persons = {0: \"Ben\", 1: \"Elton\", 2: \"Jerry\", 3: \"Madonna\"}"
   ]
  },
  {
   "cell_type": "code",
   "execution_count": 4,
   "metadata": {},
   "outputs": [],
   "source": [
    "def normalizar_imagens(nome):\n",
    "    list_files = []\n",
    "    i = 1\n",
    "    no_face = 0\n",
    "    total = 0\n",
    "    for file in glob.glob(\"imagens/5-celebrity-faces-dataset/data/train/\"+nome+\"/*\"):\n",
    "        total+=1\n",
    "        image = cv2.imread(file);\n",
    "        face = face_extractor(image)\n",
    "        if face is not None:\n",
    "            image_norm = cv2.resize(face, (200, 200))\n",
    "            image_norm = cv2.cvtColor(image_norm, cv2.COLOR_BGR2GRAY)\n",
    "            file_name_path = \"imagens/5-celebrity-faces-dataset/data/train/\"+nome+\"/norm/\"+str(i)+\".png\"\n",
    "            cv2.imwrite(file_name_path, image_norm)\n",
    "            list_files.append(file_name_path)\n",
    "            i += 1\n",
    "        else:\n",
    "            no_face += 1\n",
    "    print(\"Faces localizadas \"+str(i) + \"/\" + str(total))\n",
    "    return list_files"
   ]
  },
  {
   "cell_type": "code",
   "execution_count": 5,
   "metadata": {},
   "outputs": [],
   "source": [
    "def treinamento():\n",
    "    training_data, labels = [], []\n",
    "\n",
    "    for idx, nome in enumerate(nomes):\n",
    "        print(\"Processando \"+nome)\n",
    "        files = normalizar_imagens(nome)\n",
    "\n",
    "        # Lendo as imagens e associando a um label\n",
    "        for i, file in enumerate(files):\n",
    "            images = cv2.imread(file, cv2.IMREAD_GRAYSCALE)\n",
    "            training_data.append(np.asarray(images, dtype=np.uint8))\n",
    "            labels.append(idx)\n",
    "\n",
    "    # Criando uma matriz da lista de labels\n",
    "    labels = np.asarray(labels, dtype=np.int32)\n",
    "    return training_data, labels"
   ]
  },
  {
   "cell_type": "code",
   "execution_count": 6,
   "metadata": {},
   "outputs": [
    {
     "name": "stdout",
     "output_type": "stream",
     "text": [
      "Processando ben_afflek\n",
      "Faces localizadas 12/15\n",
      "Processando elton_john\n",
      "Faces localizadas 11/18\n",
      "Processando jerry_seinfeld\n",
      "Faces localizadas 22/22\n",
      "Processando madonna\n",
      "Faces localizadas 13/20\n"
     ]
    }
   ],
   "source": [
    "training_data, labels = treinamento()"
   ]
  },
  {
   "cell_type": "code",
   "execution_count": 7,
   "metadata": {},
   "outputs": [
    {
     "name": "stdout",
     "output_type": "stream",
     "text": [
      "Modelo treinado com sucesso.\n"
     ]
    }
   ],
   "source": [
    "# Treinamento do modelo\n",
    "model = cv2.face.LBPHFaceRecognizer_create()\n",
    "model.train(np.asarray(training_data), labels)\n",
    "print(\"Modelo treinado com sucesso.\")"
   ]
  },
  {
   "cell_type": "code",
   "execution_count": 8,
   "metadata": {},
   "outputs": [
    {
     "name": "stdout",
     "output_type": "stream",
     "text": [
      "Analisando ben_afflek\n",
      "Jerry 54 pontos\n",
      "Ben 52 pontos\n",
      "Ben 25 pontos\n",
      "Ben 79 pontos\n",
      "Jerry 69 pontos\n",
      "Faces localizadas 3/5 60.0%\n",
      "Analisando elton_john\n",
      "Elton 46 pontos\n",
      "Madonna 76 pontos\n",
      "Jerry 65 pontos\n",
      "Jerry 64 pontos\n",
      "Faces localizadas 1/5 20.0%\n",
      "Analisando jerry_seinfeld\n",
      "Jerry 47 pontos\n",
      "Jerry 69 pontos\n",
      "Jerry 43 pontos\n",
      "Jerry 63 pontos\n",
      "Jerry 59 pontos\n",
      "Faces localizadas 5/5 100.0%\n",
      "Analisando madonna\n",
      "Jerry 75 pontos\n",
      "Madonna 79 pontos\n",
      "Jerry 54 pontos\n",
      "Madonna 53 pontos\n",
      "Jerry 69 pontos\n",
      "Faces localizadas 2/5 40.0%\n"
     ]
    }
   ],
   "source": [
    "i = 1\n",
    "no_face = 0\n",
    "for idx, nome in enumerate(nomes):\n",
    "    print(\"Analisando \"+ nome)\n",
    "    total = 0\n",
    "    success = 0\n",
    "    for file in glob.glob(\"imagens/5-celebrity-faces-dataset/data/val/\"+nome+\"/*\"):\n",
    "            total += 1\n",
    "            image = cv2.imread(file);\n",
    "            face = face_extractor(image)\n",
    "            if face is not None:\n",
    "                image_norm = cv2.resize(face, (200, 200))\n",
    "                image_norm = cv2.cvtColor(image_norm, cv2.COLOR_BGR2GRAY)\n",
    "                results = model.predict(image_norm)\n",
    "                info = persons[results[0]] + \" \" + str(int(results[1]))+\" pontos\"\n",
    "                print(info)\n",
    "                if results[0] == idx:\n",
    "                    success += 1\n",
    "            else:\n",
    "                no_face += 1\n",
    "    print(\"Faces localizadas \"+str(success) + \"/\" + str(total)+ \" \"+str(float(success)*100/float(total)) + \"%\")"
   ]
  },
  {
   "cell_type": "markdown",
   "metadata": {},
   "source": [
    "Analisando mais de um rosto ao mesmo tempo"
   ]
  },
  {
   "cell_type": "code",
   "execution_count": 10,
   "metadata": {},
   "outputs": [],
   "source": [
    "def face_extractor_multi(img):\n",
    "    list_faces = []\n",
    "    list_xy = []\n",
    "    \n",
    "    try:\n",
    "        gray = cv2.cvtColor(img,cv2.COLOR_BGR2GRAY)\n",
    "        faces = face_classifier.detectMultiScale(gray, 1.3, 5)\n",
    "\n",
    "        if faces is ():\n",
    "            return None\n",
    "\n",
    "        for (x,y,w,h) in faces:\n",
    "            cropped_face = img[y:y+h, x:x+w]\n",
    "            cv2.rectangle(img,(x,y),(x+w,y+h),(0,255,255),2)\n",
    "            face_dict = {\"face\": cropped_face, \"coord_xy\": (x,y)}\n",
    "            list_faces.append(face_dict)\n",
    "            \n",
    "    except:\n",
    "        return None\n",
    "\n",
    "    return list_faces"
   ]
  },
  {
   "cell_type": "code",
   "execution_count": 11,
   "metadata": {},
   "outputs": [
    {
     "name": "stdout",
     "output_type": "stream",
     "text": [
      "Jerry 91 pontos\n",
      "Ben 81 pontos\n",
      "Madonna 75 pontos\n"
     ]
    }
   ],
   "source": [
    "image = cv2.imread(\"imagens/1.jpg\");\n",
    "faces = face_extractor_multi(image)\n",
    "if faces is not None:\n",
    "    for face in faces:\n",
    "        image_norm = cv2.resize(face[\"face\"], (200, 200))\n",
    "        image_norm = cv2.cvtColor(image_norm, cv2.COLOR_BGR2GRAY)\n",
    "        results = model.predict(image_norm)\n",
    "        info = persons[results[0]] + \" \" + str(int(results[1]))+\" pontos\"\n",
    "        cv2.putText(image, info, (face[\"coord_xy\"][0], face[\"coord_xy\"][1]-2), cv2.FONT_HERSHEY_DUPLEX, 1, (255,120,150), 1)\n",
    "        cv2.imshow(\"Imagem Final com Digitos\", image)\n",
    "        cv2.waitKey(0) \n",
    "        cv2.destroyAllWindows()\n",
    "        print(info)\n",
    "else:\n",
    "    print(\"Não encontrado faces\")"
   ]
  },
  {
   "cell_type": "code",
   "execution_count": null,
   "metadata": {},
   "outputs": [],
   "source": []
  }
 ],
 "metadata": {
  "kernelspec": {
   "display_name": "Python 3",
   "language": "python",
   "name": "python3"
  },
  "language_info": {
   "codemirror_mode": {
    "name": "ipython",
    "version": 3
   },
   "file_extension": ".py",
   "mimetype": "text/x-python",
   "name": "python",
   "nbconvert_exporter": "python",
   "pygments_lexer": "ipython3",
   "version": "3.6.5"
  }
 },
 "nbformat": 4,
 "nbformat_minor": 2
}
